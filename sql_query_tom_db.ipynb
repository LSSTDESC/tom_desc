{
 "cells": [
  {
   "cell_type": "code",
   "execution_count": 1,
   "id": "59c4bf2b-60f6-4a93-82ab-427082d5dd89",
   "metadata": {},
   "outputs": [],
   "source": [
    "import sys\n",
    "import os\n",
    "import requests\n",
    "import json"
   ]
  },
  {
   "cell_type": "code",
   "execution_count": 2,
   "id": "7b25f98b-4a00-4c3a-b325-3d8f61d114ff",
   "metadata": {},
   "outputs": [],
   "source": [
    "url = \"https://desc-tom.lbl.gov\"\n",
    "# url = \"https://desc-tom-rknop-dev.lbl.gov\"\n",
    "\n",
    "# Somehow you need to set the \"username\" and \"password\" variables.\n",
    "# Do NOT hardcode the password into any code that will be world\n",
    "# readable.  You can use the python input statement, or, as I do\n",
    "# here, read the password from a file that is only readable by\n",
    "# you.  (This isn't perfect, but it's better than having the\n",
    "# password sit around in a world readable file.)\n",
    "username = \"rknop\"\n",
    "with open( os.path.join( os.getenv(\"HOME\"), \"secrets\", \"tom_rknop_passwd\" ) ) as ifp:\n",
    "    password = ifp.readline().strip()"
   ]
  },
  {
   "cell_type": "code",
   "execution_count": 3,
   "id": "7635002b-e109-4705-965f-a1f8514e8302",
   "metadata": {},
   "outputs": [],
   "source": [
    "rqs = requests.session()\n",
    "rqs.get( f'{url}/accounts/login/' )\n",
    "res = rqs.post( f'{url}/accounts/login/',\n",
    "                data={ \"username\": username,\n",
    "                       \"password\": password,\n",
    "                       \"csrfmiddlewaretoken\": rqs.cookies['csrftoken'] } )\n",
    "if res.status_code != 200:\n",
    "    raise RuntimeError( f\"Failed to log in; http status: {res.status_code}\" )\n",
    "if 'Please enter a correct' in res.text:\n",
    "    raise RuntimeError( \"Failed to log in.  I think.  Put in a debug break and look at res.text\" )\n",
    "rqs.headers.update( { 'X-CSRFToken': rqs.cookies['csrftoken'] } )"
   ]
  },
  {
   "cell_type": "code",
   "execution_count": 4,
   "id": "3ecad12f-7342-4248-9576-0c8159d4684a",
   "metadata": {},
   "outputs": [],
   "source": [
    "# Depends on global variable rqs\n",
    "def run_query( query, subdict={} ):\n",
    "    result = rqs.post( f'{url}/db/runsqlquery/', json={ 'query': query, 'subdict': subdict } )\n",
    "    if ( result.status_code != 200 ):\n",
    "        raise RuntimeError( f\"Got http status {result.status_code}\" )\n",
    "    data = json.loads( result.text )\n",
    "    if ( 'status' in data ) and ( data['status'] == 'error' ):\n",
    "        sys.stderr.write( f\"ERROR: {data['error']}\" )\n",
    "        return []\n",
    "    elif ( 'status' not in data ) or ( data['status'] != 'ok' ):\n",
    "        raise RuntimeError( f\"Got unexpected response: {data}\" )\n",
    "    return data['rows']\n"
   ]
  },
  {
   "cell_type": "code",
   "execution_count": 5,
   "id": "57f67386-6712-4902-8cb2-1a09ea42d85d",
   "metadata": {},
   "outputs": [
    {
     "name": "stdout",
     "output_type": "stream",
     "text": [
      "classId   gentype    description\n",
      "---------------------------------\n",
      "      0      None    Static/Other\n",
      "      1      None    Non-Recurring\n",
      "     10      None    Non-Recurring/Other\n",
      "     11      None    SN-like\n",
      "    110      None    SN-like/Other\n",
      "    111        10    Ia\n",
      "    112        20    Ib/c\n",
      "    112        21    Ib/c\n",
      "    112        25    Ib/c\n",
      "    112        26    Ib/c\n",
      "    112        27    Ib/c\n",
      "    113        30    II\n",
      "    113        31    II\n",
      "    113        32    II\n",
      "    113        35    II\n",
      "    113        36    II\n",
      "    113        37    II\n",
      "    114        12    Iax\n",
      "    115        11    91bg\n",
      "     12      None    Fast\n",
      "    120      None    Fast/Other\n",
      "    121        50    KN\n",
      "    121        51    KN\n",
      "    122        82    M-dwarf Flare\n",
      "    123        84    Dwarf Nova\n",
      "    124        87    uLens\n",
      "    124        88    uLens\n",
      "    124        89    uLens\n",
      "     13      None    Long\n",
      "    130      None    Long/Other\n",
      "    131        40    SLSN\n",
      "    132        42    TDE\n",
      "    133        45    ILOT\n",
      "    134        46    CART\n",
      "    135        59    PISN\n",
      "      2      None    Recurring\n",
      "     20      None    Recurring/Other\n",
      "     21      None    Periodic\n",
      "    210      None    Periodic/Other\n",
      "    211        90    Cepheid\n",
      "    212        80    RR Lyrae\n",
      "    213        91    Delta Scuti\n",
      "    214        83    EB\n",
      "    215      None    LPV/Mira\n",
      "     22      None    Non-Periodic\n",
      "    220      None    Non-Periodic/Other\n",
      "    221        60    AGN\n"
     ]
    }
   ],
   "source": [
    "query = 'SELECT \"classId\",snana_gentype,description FROM elasticc_classificationmap'\n",
    "rows = run_query( query )\n",
    "print( f'classId   gentype    description' )\n",
    "print( '---------------------------------' )\n",
    "for row in rows:\n",
    "    print( f'{row[\"classId\"]:7d}   '\n",
    "           f'{\"None\" if row[\"snana_gentype\"] is None else str(row[\"snana_gentype\"]):>7s}    '\n",
    "           f'{row[\"description\"]}' )"
   ]
  },
  {
   "cell_type": "code",
   "execution_count": 11,
   "id": "1a590100-c4f3-4430-ac5a-1fc09319271b",
   "metadata": {},
   "outputs": [],
   "source": [
    "query = 'SELECT * FROM elasticc_diasource WHERE \"diaObject_id\"=%(id)s ORDER BY \"midPointTai\"'\n",
    "subdict = { \"id\": 6018461 } # { \"id\": 10208128  }\n",
    "rows = run_query( query, subdict )"
   ]
  },
  {
   "cell_type": "code",
   "execution_count": 12,
   "id": "7bd21866-6c0c-4418-88ad-000ecdea843e",
   "metadata": {},
   "outputs": [
    {
     "name": "stdout",
     "output_type": "stream",
     "text": [
      "Object: 6018461             , Source: 12036922062         , MJD:  60636.04, Flux:     677.09\n",
      "Object: 6018461             , Source: 12036922064         , MJD:  60638.18, Flux:     674.40\n",
      "Object: 6018461             , Source: 12036922106         , MJD:  60990.08, Flux:    1283.54\n",
      "Object: 6018461             , Source: 12036922107         , MJD:  60990.10, Flux:    1008.38\n",
      "Object: 6018461             , Source: 12036922110         , MJD:  60993.23, Flux:    1116.54\n",
      "Object: 6018461             , Source: 12036922118         , MJD:  61028.16, Flux:    1119.00\n",
      "Object: 6018461             , Source: 12036922147         , MJD:  61322.32, Flux:     882.81\n",
      "Object: 6018461             , Source: 12036922176         , MJD:  61342.08, Flux:     762.49\n",
      "Object: 6018461             , Source: 12036922182         , MJD:  61354.04, Flux:    1036.80\n",
      "Object: 6018461             , Source: 12036922183         , MJD:  61354.06, Flux:     883.87\n",
      "Object: 6018461             , Source: 12036922184         , MJD:  61354.07, Flux:     840.69\n",
      "Object: 6018461             , Source: 12036922189         , MJD:  61355.21, Flux:    1220.53\n",
      "Object: 6018461             , Source: 12036922190         , MJD:  61355.24, Flux:     839.74\n",
      "Object: 6018461             , Source: 12036922191         , MJD:  61357.10, Flux:    1023.69\n",
      "Object: 6018461             , Source: 12036922192         , MJD:  61359.25, Flux:    1150.53\n",
      "Object: 6018461             , Source: 12036922194         , MJD:  61360.18, Flux:    1657.94\n",
      "Object: 6018461             , Source: 12036922196         , MJD:  61360.20, Flux:    1185.92\n",
      "Object: 6018461             , Source: 12036922215         , MJD:  61370.14, Flux:    1105.93\n",
      "Object: 6018461             , Source: 12036922217         , MJD:  61372.07, Flux:    1287.09\n",
      "Object: 6018461             , Source: 12036922220         , MJD:  61375.15, Flux:    1103.66\n",
      "Object: 6018461             , Source: 12036922223         , MJD:  61378.17, Flux:    1085.32\n"
     ]
    },
    {
     "name": "stderr",
     "output_type": "stream",
     "text": [
      "Got 21 rows"
     ]
    }
   ],
   "source": [
    "sys.stderr.write( f\"Got {len(rows)} rows\" )\n",
    "for row in rows:\n",
    "    print( f'Object: {row[\"diaObject_id\"]:<20d}, Source: {row[\"diaSourceId\"]:<20d}, '\n",
    "           f'MJD: {row[\"midPointTai\"]:9.2f}, Flux: {row[\"psFlux\"]:10.2f}' )"
   ]
  },
  {
   "cell_type": "code",
   "execution_count": 29,
   "id": "619e093a-1686-4a2f-a5f7-8a8a7456850b",
   "metadata": {},
   "outputs": [
    {
     "data": {
      "text/plain": [
       "{'status': 'ok',\n",
       " 'rows': [{'diaSourceId': 12036922062,\n",
       "   'ccdVisitId': -1,\n",
       "   'parentDiaSourceId': None,\n",
       "   'midPointTai': 60636.0428,\n",
       "   'filterName': 'g',\n",
       "   'ra': 28.96840362195947,\n",
       "   'decl': -21.886205596973067,\n",
       "   'psFlux': 677.0934448242188,\n",
       "   'psFluxErr': 78.85809326171875,\n",
       "   'snr': 8.586226463317871,\n",
       "   'nobs': 224.0,\n",
       "   'diaObject_id': 6018461},\n",
       "  {'diaSourceId': 12036922064,\n",
       "   'ccdVisitId': -1,\n",
       "   'parentDiaSourceId': None,\n",
       "   'midPointTai': 60638.1793,\n",
       "   'filterName': 'g',\n",
       "   'ra': 28.96840362195947,\n",
       "   'decl': -21.886205596973067,\n",
       "   'psFlux': 674.39990234375,\n",
       "   'psFluxErr': 100.12347412109375,\n",
       "   'snr': 6.735682487487793,\n",
       "   'nobs': 224.0,\n",
       "   'diaObject_id': 6018461},\n",
       "  {'diaSourceId': 12036922106,\n",
       "   'ccdVisitId': -1,\n",
       "   'parentDiaSourceId': None,\n",
       "   'midPointTai': 60990.0784,\n",
       "   'filterName': 'g',\n",
       "   'ra': 28.96840362195947,\n",
       "   'decl': -21.886205596973067,\n",
       "   'psFlux': 1283.5400390625,\n",
       "   'psFluxErr': 101.55677032470703,\n",
       "   'snr': 12.63864517211914,\n",
       "   'nobs': 224.0,\n",
       "   'diaObject_id': 6018461},\n",
       "  {'diaSourceId': 12036922107,\n",
       "   'ccdVisitId': -1,\n",
       "   'parentDiaSourceId': None,\n",
       "   'midPointTai': 60990.1027,\n",
       "   'filterName': 'r',\n",
       "   'ra': 28.96840362195947,\n",
       "   'decl': -21.886205596973067,\n",
       "   'psFlux': 1008.38232421875,\n",
       "   'psFluxErr': 123.5977554321289,\n",
       "   'snr': 8.158581733703613,\n",
       "   'nobs': 224.0,\n",
       "   'diaObject_id': 6018461},\n",
       "  {'diaSourceId': 12036922110,\n",
       "   'ccdVisitId': -1,\n",
       "   'parentDiaSourceId': None,\n",
       "   'midPointTai': 60993.2273,\n",
       "   'filterName': 'g',\n",
       "   'ra': 28.96840362195947,\n",
       "   'decl': -21.886205596973067,\n",
       "   'psFlux': 1116.5372314453125,\n",
       "   'psFluxErr': 101.86173248291016,\n",
       "   'snr': 10.961302757263184,\n",
       "   'nobs': 224.0,\n",
       "   'diaObject_id': 6018461},\n",
       "  {'diaSourceId': 12036922118,\n",
       "   'ccdVisitId': -1,\n",
       "   'parentDiaSourceId': None,\n",
       "   'midPointTai': 61028.1613,\n",
       "   'filterName': 'g',\n",
       "   'ra': 28.96840362195947,\n",
       "   'decl': -21.886205596973067,\n",
       "   'psFlux': 1119.00244140625,\n",
       "   'psFluxErr': 129.12428283691406,\n",
       "   'snr': 8.666088104248047,\n",
       "   'nobs': 224.0,\n",
       "   'diaObject_id': 6018461},\n",
       "  {'diaSourceId': 12036922147,\n",
       "   'ccdVisitId': -1,\n",
       "   'parentDiaSourceId': None,\n",
       "   'midPointTai': 61322.3158,\n",
       "   'filterName': 'g',\n",
       "   'ra': 28.96840362195947,\n",
       "   'decl': -21.886205596973067,\n",
       "   'psFlux': 882.8135986328125,\n",
       "   'psFluxErr': 109.22582244873047,\n",
       "   'snr': 8.082462310791016,\n",
       "   'nobs': 224.0,\n",
       "   'diaObject_id': 6018461},\n",
       "  {'diaSourceId': 12036922176,\n",
       "   'ccdVisitId': -1,\n",
       "   'parentDiaSourceId': None,\n",
       "   'midPointTai': 61342.0811,\n",
       "   'filterName': 'g',\n",
       "   'ra': 28.96840362195947,\n",
       "   'decl': -21.886205596973067,\n",
       "   'psFlux': 762.4887084960938,\n",
       "   'psFluxErr': 182.45492553710938,\n",
       "   'snr': 4.179052352905273,\n",
       "   'nobs': 224.0,\n",
       "   'diaObject_id': 6018461}]}"
      ]
     },
     "execution_count": 29,
     "metadata": {},
     "output_type": "execute_result"
    }
   ],
   "source": [
    "data"
   ]
  },
  {
   "cell_type": "code",
   "execution_count": null,
   "id": "fa1f1c2c-a299-4882-a53b-95a31e9af8da",
   "metadata": {},
   "outputs": [],
   "source": []
  }
 ],
 "metadata": {
  "kernelspec": {
   "display_name": "NERSC Python",
   "language": "python",
   "name": "python3"
  },
  "language_info": {
   "codemirror_mode": {
    "name": "ipython",
    "version": 3
   },
   "file_extension": ".py",
   "mimetype": "text/x-python",
   "name": "python",
   "nbconvert_exporter": "python",
   "pygments_lexer": "ipython3",
   "version": "3.9.7"
  }
 },
 "nbformat": 4,
 "nbformat_minor": 5
}
